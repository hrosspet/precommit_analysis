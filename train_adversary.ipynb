{
 "cells": [
  {
   "cell_type": "markdown",
   "metadata": {},
   "source": [
    "# Find the best adversary\n",
    "\n",
    "- the idea is to train the best possible classifier of MNIST digits\n",
    "- and use it's 2nd most probable class as the adversarial choice for pre-commit"
   ]
  },
  {
   "cell_type": "code",
   "execution_count": 4,
   "metadata": {},
   "outputs": [
    {
     "name": "stderr",
     "output_type": "stream",
     "text": [
      "/home/hrosspet/anaconda3/lib/python3.6/site-packages/h5py/__init__.py:34: FutureWarning: Conversion of the second argument of issubdtype from `float` to `np.floating` is deprecated. In future, it will be treated as `np.float64 == np.dtype(float).type`.\n",
      "  from ._conv import register_converters as _register_converters\n",
      "Using TensorFlow backend.\n"
     ]
    }
   ],
   "source": [
    "import numpy as np\n",
    "from utils import prepare_data, create_mnist_cnn_model\n",
    "\n",
    "batch_size = 128\n",
    "num_classes = 10\n",
    "epochs = 12"
   ]
  },
  {
   "cell_type": "code",
   "execution_count": null,
   "metadata": {},
   "outputs": [],
   "source": [
    "x_train, y_train, x_test, y_test, input_shape = prepare_data()"
   ]
  },
  {
   "cell_type": "code",
   "execution_count": null,
   "metadata": {},
   "outputs": [],
   "source": [
    "# load the judge\n",
    "judge = create_mnist_cnn_model()\n",
    "judge.load_weights('model_sparse_mnist_generator_nonzero_30k.h5py')"
   ]
  },
  {
   "cell_type": "markdown",
   "metadata": {},
   "source": [
    "# The best possible classifier"
   ]
  },
  {
   "cell_type": "code",
   "execution_count": 2,
   "metadata": {},
   "outputs": [
    {
     "name": "stdout",
     "output_type": "stream",
     "text": [
      "Train on 60000 samples, validate on 10000 samples\n",
      "Epoch 1/12\n",
      "60000/60000 [==============================] - 117s 2ms/step - loss: 0.2548 - acc: 0.9215 - val_loss: 0.0620 - val_acc: 0.9801\n",
      "Epoch 2/12\n",
      "60000/60000 [==============================] - 121s 2ms/step - loss: 0.0847 - acc: 0.9748 - val_loss: 0.0476 - val_acc: 0.9842\n",
      "Epoch 3/12\n",
      "60000/60000 [==============================] - 117s 2ms/step - loss: 0.0654 - acc: 0.9809 - val_loss: 0.0382 - val_acc: 0.9874\n",
      "Epoch 4/12\n",
      "60000/60000 [==============================] - 116s 2ms/step - loss: 0.0513 - acc: 0.9846 - val_loss: 0.0324 - val_acc: 0.9905\n",
      "Epoch 5/12\n",
      "60000/60000 [==============================] - 116s 2ms/step - loss: 0.0455 - acc: 0.9862 - val_loss: 0.0315 - val_acc: 0.9894\n",
      "Epoch 6/12\n",
      "60000/60000 [==============================] - 116s 2ms/step - loss: 0.0396 - acc: 0.9877 - val_loss: 0.0305 - val_acc: 0.9903\n",
      "Epoch 7/12\n",
      "60000/60000 [==============================] - 116s 2ms/step - loss: 0.0355 - acc: 0.9891 - val_loss: 0.0281 - val_acc: 0.9917\n",
      "Epoch 8/12\n",
      "60000/60000 [==============================] - 116s 2ms/step - loss: 0.0313 - acc: 0.9901 - val_loss: 0.0294 - val_acc: 0.9906\n",
      "Epoch 9/12\n",
      "60000/60000 [==============================] - 118s 2ms/step - loss: 0.0316 - acc: 0.9898 - val_loss: 0.0297 - val_acc: 0.9912\n",
      "Epoch 10/12\n",
      "60000/60000 [==============================] - 122s 2ms/step - loss: 0.0289 - acc: 0.9909 - val_loss: 0.0305 - val_acc: 0.9906\n",
      "Epoch 11/12\n",
      "60000/60000 [==============================] - 122s 2ms/step - loss: 0.0266 - acc: 0.9919 - val_loss: 0.0282 - val_acc: 0.9913\n",
      "Epoch 12/12\n",
      "60000/60000 [==============================] - 121s 2ms/step - loss: 0.0253 - acc: 0.9919 - val_loss: 0.0304 - val_acc: 0.9910\n"
     ]
    },
    {
     "data": {
      "text/plain": [
       "<keras.callbacks.History at 0x7f5622da72b0>"
      ]
     },
     "execution_count": 2,
     "metadata": {},
     "output_type": "execute_result"
    }
   ],
   "source": [
    "model = create_mnist_cnn_model(num_classes, input_shape)\n",
    "model.fit(x_train, y_train,\n",
    "          batch_size=batch_size,\n",
    "          epochs=epochs,\n",
    "          verbose=1,\n",
    "          validation_data=(x_test, y_test))"
   ]
  },
  {
   "cell_type": "code",
   "execution_count": 3,
   "metadata": {},
   "outputs": [],
   "source": [
    "model.save('model_mnist_12epochs.h5py')"
   ]
  },
  {
   "cell_type": "markdown",
   "metadata": {},
   "source": [
    "# This adversary works (87.36% -> 79.43%)\n",
    "\n",
    "- but couldn't we make a stronger adversary?\n",
    "- I realized that the probability distribution over classes is really sharp for this well trained classifier\n",
    "- which means that the 2nd most probable class is not the best adversarial choice (or as good as any other of the 8 remaining classes)\n",
    "- let's try to use an underfit model and see if it can be a better adversary"
   ]
  },
  {
   "cell_type": "markdown",
   "metadata": {},
   "source": [
    "## Train a worse model - 30k samples"
   ]
  },
  {
   "cell_type": "code",
   "execution_count": 2,
   "metadata": {},
   "outputs": [
    {
     "name": "stdout",
     "output_type": "stream",
     "text": [
      "Train on 30000 samples, validate on 10000 samples\n",
      "Epoch 1/1\n",
      "30000/30000 [==============================] - 62s 2ms/step - loss: 0.4052 - acc: 0.8753 - val_loss: 0.1008 - val_acc: 0.9692\n"
     ]
    },
    {
     "data": {
      "text/plain": [
       "<keras.callbacks.History at 0x7ff0b75a73c8>"
      ]
     },
     "execution_count": 2,
     "metadata": {},
     "output_type": "execute_result"
    }
   ],
   "source": [
    "adversary = create_mnist_cnn_model(num_classes, input_shape)\n",
    "adversary.fit(x_train[:30000], y_train[:30000],\n",
    "          batch_size=batch_size,\n",
    "          epochs=1,\n",
    "          verbose=1,\n",
    "          validation_data=(x_test, y_test))"
   ]
  },
  {
   "cell_type": "code",
   "execution_count": 3,
   "metadata": {},
   "outputs": [],
   "source": [
    "adversary.save('model_mnist_30ksamples.h5py')"
   ]
  },
  {
   "cell_type": "markdown",
   "metadata": {},
   "source": [
    "### Judge - 5k batches"
   ]
  },
  {
   "cell_type": "code",
   "execution_count": 5,
   "metadata": {},
   "outputs": [
    {
     "name": "stdout",
     "output_type": "stream",
     "text": [
      "accuracy: 77.73%\n",
      "variance: 7.076400E-06\n"
     ]
    }
   ],
   "source": [
    "accuracies = eval_precommit_adversarial_generator(x_test, val_data_generator, judge, adversary, 10)\n",
    "print('accuracy: %.2f%%' % (100 * np.mean(accuracies)))\n",
    "print('variance: %E' % np.var(accuracies))"
   ]
  },
  {
   "cell_type": "markdown",
   "metadata": {},
   "source": [
    "### Better judge - 30k batches"
   ]
  },
  {
   "cell_type": "code",
   "execution_count": 6,
   "metadata": {},
   "outputs": [
    {
     "name": "stdout",
     "output_type": "stream",
     "text": [
      "accuracy: 80.60%\n",
      "variance: 8.182900E-06\n"
     ]
    }
   ],
   "source": [
    "accuracies = eval_precommit_adversarial_generator(x_test, val_data_generator, judge, adversary, 10)\n",
    "print('accuracy: %.2f%%' % (100 * np.mean(accuracies)))\n",
    "print('variance: %E' % np.var(accuracies))"
   ]
  },
  {
   "cell_type": "markdown",
   "metadata": {},
   "source": [
    "# Ok, this works even better! (77.73%)\n",
    "\n",
    "- let's try to limit the training even more\n",
    "- edit: the following search was done manually, because I didn't originally now how much time I can spend looking for the best adversary\n",
    "- edit2: the search I did by hand was a binary search, but I reordered the cells for a better orientation"
   ]
  },
  {
   "cell_type": "markdown",
   "metadata": {},
   "source": [
    "## Train a worse model 15k samples"
   ]
  },
  {
   "cell_type": "code",
   "execution_count": 2,
   "metadata": {},
   "outputs": [
    {
     "name": "stdout",
     "output_type": "stream",
     "text": [
      "Train on 15000 samples, validate on 10000 samples\n",
      "Epoch 1/1\n",
      "15000/15000 [==============================] - 34s 2ms/step - loss: 0.5620 - acc: 0.8255 - val_loss: 0.1386 - val_acc: 0.9596\n"
     ]
    },
    {
     "data": {
      "text/plain": [
       "<keras.callbacks.History at 0x7f540a81a400>"
      ]
     },
     "execution_count": 2,
     "metadata": {},
     "output_type": "execute_result"
    }
   ],
   "source": [
    "adversary = create_mnist_cnn_model(num_classes, input_shape)\n",
    "adversary.fit(x_train[:15000], y_train[:15000],\n",
    "          batch_size=batch_size,\n",
    "          epochs=1,\n",
    "          verbose=1,\n",
    "          validation_data=(x_test, y_test))"
   ]
  },
  {
   "cell_type": "code",
   "execution_count": 3,
   "metadata": {},
   "outputs": [],
   "source": [
    "adversary.save('model_mnist_15ksamples.h5py')"
   ]
  },
  {
   "cell_type": "markdown",
   "metadata": {},
   "source": [
    "### Judge - 5k batches"
   ]
  },
  {
   "cell_type": "code",
   "execution_count": 8,
   "metadata": {},
   "outputs": [
    {
     "name": "stdout",
     "output_type": "stream",
     "text": [
      "accuracy: 76.04%\n",
      "variance: 2.964650E-05\n"
     ]
    }
   ],
   "source": [
    "# accuracies = eval_precommit_adversarial_generator(x_test, val_data_generator, judge, adversary, 10)\n",
    "print('accuracy: %.2f%%' % (100 * np.mean(accuracies)))\n",
    "print('variance: %E' % np.var(accuracies))"
   ]
  },
  {
   "cell_type": "markdown",
   "metadata": {},
   "source": [
    "### Better judge - 30k batches"
   ]
  },
  {
   "cell_type": "code",
   "execution_count": 9,
   "metadata": {},
   "outputs": [
    {
     "name": "stdout",
     "output_type": "stream",
     "text": [
      "accuracy: 77.42%\n",
      "variance: 1.449610E-05\n"
     ]
    }
   ],
   "source": [
    "accuracies = eval_precommit_adversarial_generator(x_test, val_data_generator, judge, adversarial_model_1epoch, 10)\n",
    "print('accuracy: %.2f%%' % (100 * np.mean(accuracies)))\n",
    "print('variance: %E' % np.var(accuracies))"
   ]
  },
  {
   "cell_type": "markdown",
   "metadata": {},
   "source": [
    "## Train a worse model - 10k samples"
   ]
  },
  {
   "cell_type": "code",
   "execution_count": 2,
   "metadata": {},
   "outputs": [
    {
     "name": "stdout",
     "output_type": "stream",
     "text": [
      "Train on 10000 samples, validate on 10000 samples\n",
      "Epoch 1/1\n",
      "10000/10000 [==============================] - 24s 2ms/step - loss: 0.7415 - acc: 0.7678 - val_loss: 0.1980 - val_acc: 0.9368\n"
     ]
    },
    {
     "data": {
      "text/plain": [
       "<keras.callbacks.History at 0x7fd6fc457048>"
      ]
     },
     "execution_count": 2,
     "metadata": {},
     "output_type": "execute_result"
    }
   ],
   "source": [
    "adversary = create_mnist_cnn_model(num_classes, input_shape)\n",
    "adversary.fit(x_train[:10000], y_train[:10000],\n",
    "          batch_size=batch_size,\n",
    "          epochs=1,\n",
    "          verbose=1,\n",
    "          validation_data=(x_test, y_test))"
   ]
  },
  {
   "cell_type": "code",
   "execution_count": 3,
   "metadata": {},
   "outputs": [],
   "source": [
    "adversary.save('model_mnist_10ksamples.h5py')"
   ]
  },
  {
   "cell_type": "markdown",
   "metadata": {},
   "source": [
    "### Judge - 5k batches"
   ]
  },
  {
   "cell_type": "code",
   "execution_count": 11,
   "metadata": {},
   "outputs": [
    {
     "name": "stdout",
     "output_type": "stream",
     "text": [
      "accuracy: 75.31%\n",
      "variance: 1.778890E-05\n"
     ]
    }
   ],
   "source": [
    "accuracies = eval_precommit_adversarial_generator(x_test, val_data_generator, judge, adversary, 10)\n",
    "print('accuracy: %.2f%%' % (100 * np.mean(accuracies)))\n",
    "print('variance: %E' % np.var(accuracies))"
   ]
  },
  {
   "cell_type": "markdown",
   "metadata": {},
   "source": [
    "### Better judge - 30k batches"
   ]
  },
  {
   "cell_type": "code",
   "execution_count": 12,
   "metadata": {},
   "outputs": [
    {
     "name": "stdout",
     "output_type": "stream",
     "text": [
      "accuracy: 76.82%\n",
      "variance: 1.452840E-05\n"
     ]
    }
   ],
   "source": [
    "accuracies = eval_precommit_adversarial_generator(x_test, val_data_generator, judge, adversary, 10)\n",
    "print('accuracy: %.2f%%' % (100 * np.mean(accuracies)))\n",
    "print('variance: %E' % np.var(accuracies))"
   ]
  },
  {
   "cell_type": "markdown",
   "metadata": {},
   "source": [
    "## Train a worse model 7.5k samples"
   ]
  },
  {
   "cell_type": "code",
   "execution_count": 2,
   "metadata": {},
   "outputs": [
    {
     "name": "stdout",
     "output_type": "stream",
     "text": [
      "Train on 7500 samples, validate on 10000 samples\n",
      "Epoch 1/1\n",
      "7500/7500 [==============================] - 20s 3ms/step - loss: 0.8706 - acc: 0.7204 - val_loss: 0.3487 - val_acc: 0.8878\n"
     ]
    },
    {
     "data": {
      "text/plain": [
       "<keras.callbacks.History at 0x7fbb32b493c8>"
      ]
     },
     "execution_count": 2,
     "metadata": {},
     "output_type": "execute_result"
    }
   ],
   "source": [
    "adversary = create_mnist_cnn_model(num_classes, input_shape)\n",
    "adversary.fit(x_train[:7500], y_train[:7500],\n",
    "          batch_size=batch_size,\n",
    "          epochs=1,\n",
    "          verbose=1,\n",
    "          validation_data=(x_test, y_test))"
   ]
  },
  {
   "cell_type": "code",
   "execution_count": 3,
   "metadata": {},
   "outputs": [],
   "source": [
    "adversary.save('model_mnist_7500samples.h5py')"
   ]
  },
  {
   "cell_type": "markdown",
   "metadata": {},
   "source": [
    "### Judge - 5k batches"
   ]
  },
  {
   "cell_type": "code",
   "execution_count": 14,
   "metadata": {},
   "outputs": [
    {
     "name": "stdout",
     "output_type": "stream",
     "text": [
      "accuracy: 76.23%\n",
      "variance: 9.772400E-06\n"
     ]
    }
   ],
   "source": [
    "accuracies = eval_precommit_adversarial_generator(x_test, val_data_generator, judge, adversary, 10)\n",
    "print('accuracy: %.2f%%' % (100 * np.mean(accuracies)))\n",
    "print('variance: %E' % np.var(accuracies))"
   ]
  },
  {
   "cell_type": "markdown",
   "metadata": {},
   "source": [
    "### Better judge - 30k batches"
   ]
  },
  {
   "cell_type": "code",
   "execution_count": 15,
   "metadata": {
    "scrolled": true
   },
   "outputs": [
    {
     "name": "stdout",
     "output_type": "stream",
     "text": [
      "accuracy: 77.24%\n",
      "variance: 1.531050E-05\n"
     ]
    }
   ],
   "source": [
    "accuracies = eval_precommit_adversarial_generator(x_test, val_data_generator, judge, adversary, 10)\n",
    "print('accuracy: %.2f%%' % (100 * np.mean(accuracies)))\n",
    "print('variance: %E' % np.var(accuracies))"
   ]
  },
  {
   "cell_type": "markdown",
   "metadata": {},
   "source": [
    "## Train a worse model - 5k samples"
   ]
  },
  {
   "cell_type": "code",
   "execution_count": 2,
   "metadata": {},
   "outputs": [
    {
     "name": "stdout",
     "output_type": "stream",
     "text": [
      "Train on 5000 samples, validate on 10000 samples\n",
      "Epoch 1/1\n",
      "5000/5000 [==============================] - 15s 3ms/step - loss: 1.1166 - acc: 0.6304 - val_loss: 0.6986 - val_acc: 0.7800\n"
     ]
    },
    {
     "data": {
      "text/plain": [
       "<keras.callbacks.History at 0x7f494cdfe550>"
      ]
     },
     "execution_count": 2,
     "metadata": {},
     "output_type": "execute_result"
    }
   ],
   "source": [
    "adversary = create_mnist_cnn_model(num_classes, input_shape)\n",
    "adversary.fit(x_train[:5000], y_train[:5000],\n",
    "          batch_size=batch_size,\n",
    "          epochs=1,\n",
    "          verbose=1,\n",
    "          validation_data=(x_test, y_test))"
   ]
  },
  {
   "cell_type": "code",
   "execution_count": 3,
   "metadata": {},
   "outputs": [],
   "source": [
    "adversary.save('model_mnist_5ksamples.h5py')"
   ]
  },
  {
   "cell_type": "markdown",
   "metadata": {},
   "source": [
    "### Judge - 5k batches"
   ]
  },
  {
   "cell_type": "code",
   "execution_count": 17,
   "metadata": {},
   "outputs": [
    {
     "name": "stdout",
     "output_type": "stream",
     "text": [
      "accuracy: 78.31%\n",
      "variance: 1.016640E-05\n"
     ]
    }
   ],
   "source": [
    "accuracies = eval_precommit_adversarial_generator(x_test, val_data_generator, judge, adversary, 10)\n",
    "print('accuracy: %.2f%%' % (100 * np.mean(accuracies)))\n",
    "print('variance: %E' % np.var(accuracies))"
   ]
  },
  {
   "cell_type": "markdown",
   "metadata": {},
   "source": [
    "### Better judge - 30k batches"
   ]
  },
  {
   "cell_type": "code",
   "execution_count": 18,
   "metadata": {
    "scrolled": true
   },
   "outputs": [
    {
     "name": "stdout",
     "output_type": "stream",
     "text": [
      "accuracy: 80.12%\n",
      "variance: 2.667810E-05\n"
     ]
    }
   ],
   "source": [
    "accuracies = eval_precommit_adversarial_generator(x_test, val_data_generator, judge, adversary, 10)\n",
    "print('accuracy: %.2f%%' % (100 * np.mean(accuracies)))\n",
    "print('variance: %E' % np.var(accuracies))"
   ]
  },
  {
   "cell_type": "markdown",
   "metadata": {},
   "source": [
    "## Train a worse model - 500 samples"
   ]
  },
  {
   "cell_type": "code",
   "execution_count": 2,
   "metadata": {},
   "outputs": [
    {
     "name": "stdout",
     "output_type": "stream",
     "text": [
      "Train on 500 samples, validate on 10000 samples\n",
      "Epoch 1/1\n",
      "500/500 [==============================] - 6s 12ms/step - loss: 2.1603 - acc: 0.2120 - val_loss: 1.9371 - val_acc: 0.4129\n"
     ]
    },
    {
     "data": {
      "text/plain": [
       "<keras.callbacks.History at 0x7f06983bf3c8>"
      ]
     },
     "execution_count": 2,
     "metadata": {},
     "output_type": "execute_result"
    }
   ],
   "source": [
    "adversary = create_mnist_cnn_model(num_classes, input_shape)\n",
    "adversary.fit(x_train[:500], y_train[:500],\n",
    "          batch_size=batch_size,\n",
    "          epochs=1,\n",
    "          verbose=1,\n",
    "          validation_data=(x_test, y_test))"
   ]
  },
  {
   "cell_type": "code",
   "execution_count": 3,
   "metadata": {},
   "outputs": [],
   "source": [
    "adversary.save('model_mnist_500samples.h5py')"
   ]
  },
  {
   "cell_type": "markdown",
   "metadata": {},
   "source": [
    "### Judge - 5k batches"
   ]
  },
  {
   "cell_type": "code",
   "execution_count": 20,
   "metadata": {},
   "outputs": [
    {
     "name": "stdout",
     "output_type": "stream",
     "text": [
      "accuracy: 84.33%\n",
      "variance: 5.284400E-06\n"
     ]
    }
   ],
   "source": [
    "accuracies = eval_precommit_adversarial_generator(x_test, val_data_generator, judge, adversary, 10)\n",
    "print('accuracy: %.2f%%' % (100 * np.mean(accuracies)))\n",
    "print('variance: %E' % np.var(accuracies))"
   ]
  },
  {
   "cell_type": "markdown",
   "metadata": {},
   "source": [
    "### Better judge - 30k batches"
   ]
  },
  {
   "cell_type": "code",
   "execution_count": 21,
   "metadata": {
    "scrolled": true
   },
   "outputs": [
    {
     "name": "stdout",
     "output_type": "stream",
     "text": [
      "accuracy: 85.61%\n",
      "variance: 4.547600E-06\n"
     ]
    }
   ],
   "source": [
    "accuracies = eval_precommit_adversarial_generator(x_test, val_data_generator, judge, adversary, 10)\n",
    "print('accuracy: %.2f%%' % (100 * np.mean(accuracies)))\n",
    "print('variance: %E' % np.var(accuracies))"
   ]
  },
  {
   "cell_type": "markdown",
   "metadata": {},
   "source": [
    "# Ok, the idea with limited training worked\n",
    "\n",
    "- but limiting the number of samples is probably suboptimal with respect to our goal of finding the best adversarial choice\n",
    "- let's try to train the model on all training samples (1 full epoch)\n",
    "- but achieve the underfit by decreasing the learning rate"
   ]
  },
  {
   "cell_type": "markdown",
   "metadata": {},
   "source": [
    "## Train a worse model - adam 1e-6"
   ]
  },
  {
   "cell_type": "code",
   "execution_count": 2,
   "metadata": {},
   "outputs": [
    {
     "name": "stdout",
     "output_type": "stream",
     "text": [
      "Train on 60000 samples, validate on 10000 samples\n",
      "Epoch 1/1\n",
      "60000/60000 [==============================] - 121s 2ms/step - loss: 2.2840 - acc: 0.1258 - val_loss: 2.2382 - val_acc: 0.3251\n"
     ]
    },
    {
     "data": {
      "text/plain": [
       "<keras.callbacks.History at 0x7f233cdbeb38>"
      ]
     },
     "execution_count": 2,
     "metadata": {},
     "output_type": "execute_result"
    }
   ],
   "source": [
    "adversary = create_mnist_cnn_model(num_classes, input_shape, lr=1e-6)\n",
    "adversary.fit(x_train, y_train,\n",
    "          batch_size=batch_size,\n",
    "          epochs=1,\n",
    "          verbose=1,\n",
    "          validation_data=(x_test, y_test))"
   ]
  },
  {
   "cell_type": "code",
   "execution_count": 3,
   "metadata": {},
   "outputs": [],
   "source": [
    "adversary.save('model_mnist_1epoch_adam1e-6.h5py')"
   ]
  },
  {
   "cell_type": "markdown",
   "metadata": {},
   "source": [
    "### Judge - 5k batches"
   ]
  },
  {
   "cell_type": "code",
   "execution_count": 23,
   "metadata": {},
   "outputs": [
    {
     "name": "stdout",
     "output_type": "stream",
     "text": [
      "accuracy: 83.32%\n",
      "variance: 9.346000E-06\n"
     ]
    }
   ],
   "source": [
    "accuracies = eval_precommit_adversarial_generator(x_test, val_data_generator, judge, adversary, 10)\n",
    "print('accuracy: %.2f%%' % (100 * np.mean(accuracies)))\n",
    "print('variance: %E' % np.var(accuracies))"
   ]
  },
  {
   "cell_type": "markdown",
   "metadata": {},
   "source": [
    "### Better judge - 30k batches"
   ]
  },
  {
   "cell_type": "code",
   "execution_count": 24,
   "metadata": {
    "scrolled": true
   },
   "outputs": [
    {
     "name": "stdout",
     "output_type": "stream",
     "text": [
      "accuracy: 84.98%\n",
      "variance: 1.032250E-05\n"
     ]
    }
   ],
   "source": [
    "accuracies = eval_precommit_adversarial_generator(x_test, val_data_generator, judge, adversary, 10)\n",
    "print('accuracy: %.2f%%' % (100 * np.mean(accuracies)))\n",
    "print('variance: %E' % np.var(accuracies))"
   ]
  },
  {
   "cell_type": "markdown",
   "metadata": {},
   "source": [
    "## Train a worse model - adam 1e-5"
   ]
  },
  {
   "cell_type": "code",
   "execution_count": null,
   "metadata": {},
   "outputs": [],
   "source": [
    "adversary = create_mnist_cnn_model(num_classes, input_shape, lr=1e-5)\n",
    "adversary.fit(x_train, y_train,\n",
    "          batch_size=batch_size,\n",
    "          epochs=1,\n",
    "          verbose=1,\n",
    "          validation_data=(x_test, y_test))"
   ]
  },
  {
   "cell_type": "code",
   "execution_count": 3,
   "metadata": {},
   "outputs": [],
   "source": [
    "adversary.save('model_mnist_1epoch_adam1e-5.h5py')"
   ]
  },
  {
   "cell_type": "markdown",
   "metadata": {},
   "source": [
    "### Judge - 5k batches"
   ]
  },
  {
   "cell_type": "code",
   "execution_count": 26,
   "metadata": {},
   "outputs": [
    {
     "name": "stdout",
     "output_type": "stream",
     "text": [
      "accuracy: 73.87%\n",
      "variance: 7.136900E-06\n"
     ]
    }
   ],
   "source": [
    "accuracies = eval_precommit_adversarial_generator(x_test, val_data_generator, judge, adversary, 10)\n",
    "print('accuracy: %.2f%%' % (100 * np.mean(accuracies)))\n",
    "print('variance: %E' % np.var(accuracies))"
   ]
  },
  {
   "cell_type": "markdown",
   "metadata": {},
   "source": [
    "### Better judge - 30k batches"
   ]
  },
  {
   "cell_type": "code",
   "execution_count": 27,
   "metadata": {
    "scrolled": true
   },
   "outputs": [
    {
     "name": "stdout",
     "output_type": "stream",
     "text": [
      "accuracy: 75.41%\n",
      "variance: 1.368610E-05\n"
     ]
    }
   ],
   "source": [
    "accuracies = eval_precommit_adversarial_generator(x_test, val_data_generator, judge, adversary, 10)\n",
    "print('accuracy: %.2f%%' % (100 * np.mean(accuracies)))\n",
    "print('variance: %E' % np.var(accuracies))"
   ]
  },
  {
   "cell_type": "markdown",
   "metadata": {},
   "source": [
    "## Train a worse model - adam 5e-5"
   ]
  },
  {
   "cell_type": "code",
   "execution_count": 2,
   "metadata": {},
   "outputs": [
    {
     "name": "stdout",
     "output_type": "stream",
     "text": [
      "Train on 60000 samples, validate on 10000 samples\n",
      "Epoch 1/1\n",
      "60000/60000 [==============================] - 129s 2ms/step - loss: 0.6516 - acc: 0.8128 - val_loss: 0.2067 - val_acc: 0.9368\n"
     ]
    },
    {
     "data": {
      "text/plain": [
       "<keras.callbacks.History at 0x7f034d8afbe0>"
      ]
     },
     "execution_count": 2,
     "metadata": {},
     "output_type": "execute_result"
    }
   ],
   "source": [
    "adversary = create_mnist_cnn_model(num_classes, input_shape, lr=5e-5)\n",
    "adversary.fit(x_train, y_train,\n",
    "          batch_size=batch_size,\n",
    "          epochs=1,\n",
    "          verbose=1,\n",
    "          validation_data=(x_test, y_test))"
   ]
  },
  {
   "cell_type": "code",
   "execution_count": 3,
   "metadata": {},
   "outputs": [],
   "source": [
    "adversary.save('model_mnist_1epoch_adam5e-5.h5py')"
   ]
  },
  {
   "cell_type": "markdown",
   "metadata": {},
   "source": [
    "### Judge - 5k batches"
   ]
  },
  {
   "cell_type": "code",
   "execution_count": 29,
   "metadata": {},
   "outputs": [
    {
     "name": "stdout",
     "output_type": "stream",
     "text": [
      "accuracy: 75.23%\n",
      "variance: 9.916900E-06\n"
     ]
    }
   ],
   "source": [
    "accuracies = eval_precommit_adversarial_generator(x_test, val_data_generator, judge, adversary, 10)\n",
    "print('accuracy: %.2f%%' % (100 * np.mean(accuracies)))\n",
    "print('variance: %E' % np.var(accuracies))"
   ]
  },
  {
   "cell_type": "markdown",
   "metadata": {},
   "source": [
    "### Better judge - 30k batches"
   ]
  },
  {
   "cell_type": "code",
   "execution_count": 30,
   "metadata": {
    "scrolled": true
   },
   "outputs": [
    {
     "name": "stdout",
     "output_type": "stream",
     "text": [
      "accuracy: 76.28%\n",
      "variance: 1.054410E-05\n"
     ]
    }
   ],
   "source": [
    "accuracies = eval_precommit_adversarial_generator(x_test, val_data_generator, judge, adversary, 10)\n",
    "print('accuracy: %.2f%%' % (100 * np.mean(accuracies)))\n",
    "print('variance: %E' % np.var(accuracies))"
   ]
  },
  {
   "cell_type": "markdown",
   "metadata": {},
   "source": [
    "### Train another one with a different seed"
   ]
  },
  {
   "cell_type": "code",
   "execution_count": 2,
   "metadata": {},
   "outputs": [
    {
     "name": "stdout",
     "output_type": "stream",
     "text": [
      "Train on 60000 samples, validate on 10000 samples\n",
      "Epoch 1/1\n",
      "60000/60000 [==============================] - 118s 2ms/step - loss: 0.8375 - acc: 0.7610 - val_loss: 0.2722 - val_acc: 0.9229\n"
     ]
    },
    {
     "data": {
      "text/plain": [
       "<keras.callbacks.History at 0x7f4c281db6a0>"
      ]
     },
     "execution_count": 2,
     "metadata": {},
     "output_type": "execute_result"
    }
   ],
   "source": [
    "adversary = create_mnist_cnn_model(num_classes, input_shape, lr=5e-5)\n",
    "adversary.fit(x_train, y_train,\n",
    "          batch_size=batch_size,\n",
    "          epochs=1,\n",
    "          verbose=1,\n",
    "          validation_data=(x_test, y_test))"
   ]
  },
  {
   "cell_type": "code",
   "execution_count": 3,
   "metadata": {},
   "outputs": [],
   "source": [
    "adversary.save('model_mnist_1epoch_adam5e-5_2.h5py')"
   ]
  },
  {
   "cell_type": "markdown",
   "metadata": {},
   "source": [
    "## Train a worse model - adam 1e-4"
   ]
  },
  {
   "cell_type": "code",
   "execution_count": 2,
   "metadata": {},
   "outputs": [
    {
     "name": "stdout",
     "output_type": "stream",
     "text": [
      "Train on 60000 samples, validate on 10000 samples\n",
      "Epoch 1/1\n",
      "60000/60000 [==============================] - 122s 2ms/step - loss: 0.6217 - acc: 0.8239 - val_loss: 0.1918 - val_acc: 0.9438\n"
     ]
    },
    {
     "data": {
      "text/plain": [
       "<keras.callbacks.History at 0x7f6a13a67c18>"
      ]
     },
     "execution_count": 2,
     "metadata": {},
     "output_type": "execute_result"
    }
   ],
   "source": [
    "adversary = create_mnist_cnn_model(num_classes, input_shape, lr=1e-4)\n",
    "adversary.fit(x_train, y_train,\n",
    "          batch_size=batch_size,\n",
    "          epochs=1,\n",
    "          verbose=1,\n",
    "          validation_data=(x_test, y_test))"
   ]
  },
  {
   "cell_type": "code",
   "execution_count": 3,
   "metadata": {},
   "outputs": [],
   "source": [
    "adversary.save('model_mnist_1epoch_adam1e-4.h5py')"
   ]
  },
  {
   "cell_type": "markdown",
   "metadata": {},
   "source": [
    "### Judge - 5k batches"
   ]
  },
  {
   "cell_type": "code",
   "execution_count": 32,
   "metadata": {},
   "outputs": [
    {
     "name": "stdout",
     "output_type": "stream",
     "text": [
      "accuracy: 75.06%\n",
      "variance: 1.533240E-05\n"
     ]
    }
   ],
   "source": [
    "accuracies = eval_precommit_adversarial_generator(x_test, val_data_generator, judge, adversary, 10)\n",
    "print('accuracy: %.2f%%' % (100 * np.mean(accuracies)))\n",
    "print('variance: %E' % np.var(accuracies))"
   ]
  },
  {
   "cell_type": "markdown",
   "metadata": {},
   "source": [
    "### Better judge - 30k batches"
   ]
  },
  {
   "cell_type": "code",
   "execution_count": 33,
   "metadata": {
    "scrolled": true
   },
   "outputs": [
    {
     "name": "stdout",
     "output_type": "stream",
     "text": [
      "accuracy: 76.50%\n",
      "variance: 2.174610E-05\n"
     ]
    }
   ],
   "source": [
    "accuracies = eval_precommit_adversarial_generator(x_test, val_data_generator, judge, adversary, 10)\n",
    "print('accuracy: %.2f%%' % (100 * np.mean(accuracies)))\n",
    "print('variance: %E' % np.var(accuracies))"
   ]
  },
  {
   "cell_type": "code",
   "execution_count": null,
   "metadata": {},
   "outputs": [],
   "source": []
  }
 ],
 "metadata": {
  "kernelspec": {
   "display_name": "Python 3",
   "language": "python",
   "name": "python3"
  },
  "language_info": {
   "codemirror_mode": {
    "name": "ipython",
    "version": 3
   },
   "file_extension": ".py",
   "mimetype": "text/x-python",
   "name": "python",
   "nbconvert_exporter": "python",
   "pygments_lexer": "ipython3",
   "version": "3.6.1"
  }
 },
 "nbformat": 4,
 "nbformat_minor": 2
}
